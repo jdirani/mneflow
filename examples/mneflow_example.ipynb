{
 "cells": [
  {
   "cell_type": "markdown",
   "metadata": {},
   "source": [
    "# Importing data\n"
   ]
  },
  {
   "cell_type": "code",
   "execution_count": 1,
   "metadata": {},
   "outputs": [],
   "source": [
    "import numpy as np\n",
    "import os \n",
    "import tensorflow as tf\n",
    "import mneflow      "
   ]
  },
  {
   "cell_type": "markdown",
   "metadata": {},
   "source": [
    "## 1. from MNE epochs"
   ]
  },
  {
   "cell_type": "markdown",
   "metadata": {},
   "source": [
    "#### If you use MNE-python, all you need is to provide your epochs file (or list of epoch files) to mneflow.produce_tfrecords\n"
   ]
  },
  {
   "cell_type": "code",
   "execution_count": 2,
   "metadata": {},
   "outputs": [
    {
     "name": "stdout",
     "output_type": "stream",
     "text": [
      "Automatically created module for IPython interactive environment\n",
      "Opening raw data file /m/home/home6/62/zubarei1/unix/mne_data/MNE-multimodal-data/multimodal_raw.fif...\n",
      "    Read a total of 7 projection items:\n",
      "        grad_ssp_upright.fif : PCA-v1 (1 x 306)  idle\n",
      "        grad_ssp_upright.fif : PCA-v2 (1 x 306)  idle\n",
      "        mag_ssp_upright.fif : PCA-v1 (1 x 306)  idle\n",
      "        mag_ssp_upright.fif : PCA-v2 (1 x 306)  idle\n",
      "        mag_ssp_upright.fif : PCA-v3 (1 x 306)  idle\n",
      "        mag_ssp_upright.fif : PCA-v4 (1 x 306)  idle\n",
      "        mag_ssp_upright.fif : PCA-v5 (1 x 306)  idle\n",
      "    Range : 183600 ... 576599 =    305.687 ...   960.014 secs\n",
      "Ready.\n",
      "Current compensation grade : 0\n",
      "118 matching events found\n",
      "Applying baseline correction (mode: mean)\n",
      "Not setting metadata\n",
      "Created an SSP operator (subspace dimension = 7)\n",
      "7 projection items activated\n",
      "129 matching events found\n",
      "Applying baseline correction (mode: mean)\n",
      "Not setting metadata\n",
      "Created an SSP operator (subspace dimension = 7)\n",
      "7 projection items activated\n",
      "115 matching events found\n",
      "Applying baseline correction (mode: mean)\n",
      "Not setting metadata\n",
      "Created an SSP operator (subspace dimension = 7)\n",
      "7 projection items activated\n",
      "133 matching events found\n",
      "Applying baseline correction (mode: mean)\n",
      "Not setting metadata\n",
      "Created an SSP operator (subspace dimension = 7)\n",
      "7 projection items activated\n",
      "107 matching events found\n",
      "Applying baseline correction (mode: mean)\n",
      "Not setting metadata\n",
      "Created an SSP operator (subspace dimension = 7)\n",
      "7 projection items activated\n",
      "118 matching events found\n",
      "Applying baseline correction (mode: mean)\n",
      "Not setting metadata\n",
      "Created an SSP operator (subspace dimension = 7)\n",
      "7 projection items activated\n",
      "104 matching events found\n",
      "Applying baseline correction (mode: mean)\n",
      "Not setting metadata\n",
      "Created an SSP operator (subspace dimension = 7)\n",
      "7 projection items activated\n",
      "117 matching events found\n",
      "Applying baseline correction (mode: mean)\n",
      "Not setting metadata\n",
      "Created an SSP operator (subspace dimension = 7)\n",
      "7 projection items activated\n",
      "Loading data for 118 events and 361 original time points ...\n",
      "1 bad epochs dropped\n",
      "Loading data for 129 events and 361 original time points ...\n",
      "0 bad epochs dropped\n",
      "Loading data for 115 events and 361 original time points ...\n",
      "0 bad epochs dropped\n",
      "Loading data for 133 events and 361 original time points ...\n",
      "0 bad epochs dropped\n",
      "Loading data for 107 events and 361 original time points ...\n",
      "0 bad epochs dropped\n",
      "Loading data for 118 events and 361 original time points ...\n",
      "0 bad epochs dropped\n",
      "Loading data for 104 events and 361 original time points ...\n",
      "0 bad epochs dropped\n",
      "Loading data for 117 events and 361 original time points ...\n",
      "0 bad epochs dropped\n",
      "940 matching events found\n",
      "Applying baseline correction (mode: mean)\n",
      "Not setting metadata\n",
      "Created an SSP operator (subspace dimension = 7)\n",
      "0 bad epochs dropped\n"
     ]
    }
   ],
   "source": [
    "import mne\n",
    "from mne.datasets import multimodal\n",
    "\n",
    "print(__doc__)\n",
    "\n",
    "fname_raw = os.path.join(multimodal.data_path(), 'multimodal_raw.fif')\n",
    "raw = mne.io.read_raw_fif(fname_raw)\n",
    "\n",
    "#event_id = {}\n",
    "cond = raw.acqparser.get_condition(raw, None)\n",
    "epochs_list = [mne.Epochs(raw, **c) for c in cond]\n",
    "epochs = mne.concatenate_epochs(epochs_list)"
   ]
  },
  {
   "cell_type": "code",
   "execution_count": 9,
   "metadata": {},
   "outputs": [
    {
     "name": "stdout",
     "output_type": "stream",
     "text": [
      "processing epochs\n",
      "labels (940,)\n",
      "(940, 204, 142)\n",
      "Saving TFRecord# 0\n"
     ]
    }
   ],
   "source": [
    "#Specify import options\n",
    "import_opt = dict(savepath='/m/nbe/scratch/braindata/izbrv/detection_data/tfr/', #path to where the TFR files will be saved\n",
    "           out_name='mne_sample_epochs', #name of TFRecords files\n",
    "           input_type='epochs', #can also be \"epochs\"\n",
    "           picks={'meg':'grad'}, #used only if input_type is mne.epochs.Epochs or path to saved '*-epo.fif'\n",
    "           scale=True, #apply baseline_scaling?\n",
    "           crop_baseline=True,\n",
    "           bp_filter = (1.,45.),\n",
    "           decimate = 2,\n",
    "           scale_interval=78, #baseline\n",
    "           savebatch=8, # number of input files per TFRecord file           \n",
    "           save_orig=False, # whether to produce separate TFR-file for inputs in original order\n",
    "           val_size=0.1)\n",
    "\n",
    "meta = mneflow.produce_tfrecords(epochs,**import_opt)\n",
    "#a copy of meta is also saved to savepath/meta.pkl so it can be restored at any time\n",
    "\n",
    "del meta\n",
    "meta = mneflow.load_meta(import_opt['savepath'])\n"
   ]
  },
  {
   "cell_type": "code",
   "execution_count": null,
   "metadata": {},
   "outputs": [],
   "source": [
    "#print([c['event_id'] for c in cond])"
   ]
  },
  {
   "cell_type": "markdown",
   "metadata": {},
   "source": [
    "Alternatively, if your epochs are saved to disk provide a str (or list of str) with path(s) to your -epo.fif files\n",
    "e.g. this will work\n",
    "\n",
    "#epochs.save('test_saved_epochs.fif')\n",
    "#meta = mneflow.produce_tfrecords('test_saved_epochs.fif',**opt)\n",
    "\n",
    "if the first argument is str this function can also accept *.mat or *.npz format\n",
    "e.g.\n",
    "\n",
    "#data_path = '/m/nbe/scratch/braindata/izbrv/detection_data/'\n",
    "#filenames = [data_path +'sub' + str(i) + '-grad.npz' for i in range(1,4)]\n",
    "#meta = mneflow.produce_tfrecords(filenames,**opt)\n",
    "\n",
    "In this case, specify iput_type='array', and also provide array_keys keyword argument\n",
    "\n",
    "#e.g. array_keys={'X':'my_data_samples','y':'my_labels'}\n",
    "#note that \"picks\" works only for mne epochs"
   ]
  },
  {
   "cell_type": "markdown",
   "metadata": {},
   "source": [
    "# Choose from already implemented models"
   ]
  },
  {
   "cell_type": "code",
   "execution_count": 20,
   "metadata": {},
   "outputs": [
    {
     "name": "stdout",
     "output_type": "stream",
     "text": [
      "<DatasetV1Adapter shapes: {X: (204, 142), y: ()}, types: {X: tf.float32, y: tf.int64}>\n",
      "<DatasetV1Adapter shapes: ((204, 142), ()), types: (tf.float32, tf.int64)>\n",
      "lf-conv _init\n",
      "dense _init\n",
      "Initialization complete!\n"
     ]
    }
   ],
   "source": [
    "#specify model parameters\n",
    "params = dict(l1_lambda=3e-4,\n",
    "              learn_rate=3e-4,\n",
    "              dropout = .5,\n",
    "              patience = 5,# patientce for early stopping\n",
    "              min_delta = 5e-6,\n",
    "              test_upd_batch = 20,#pseudo-real time test batch size\n",
    "              n_epochs = 1000, #total training epochs\n",
    "              eval_step = 25, #evaluate validation loss each 10 epochs\n",
    "              n_batch = 200,\n",
    "              #these are specific to LF-CNN]\n",
    "              n_ls=32, #number of latent factors\n",
    "              nonlin_in = tf.identity, #input layer activation for var-cnn and lf-cnn\n",
    "              nonlin_hid = tf.nn.relu, #convolution layer activation for var-cnn and lf-cnn\n",
    "              nonlin_out = tf.identity, #output layer activation for var-cnn and lf-cnn\n",
    "              filter_length=32, #convolutional filter length for var-cnn and lf-cnn\n",
    "              pooling = 6, #convlayer pooling factor for var-cnn and lf-cnn\n",
    "              stride = 1, #stride parameter for convolution filter\n",
    "              ) #training batch size) \n",
    "\n",
    "#specify the path to store the saved model\n",
    "model_path = '/m/nbe/scratch/braindata/izbrv/detection_data/tfr/'\n",
    "\n",
    "model = mneflow.models.LFCNN(meta,params,model_path)"
   ]
  },
  {
   "cell_type": "code",
   "execution_count": 21,
   "metadata": {},
   "outputs": [
    {
     "name": "stdout",
     "output_type": "stream",
     "text": [
      "epoch 0, train_loss 3.57402, train acc 0.0652174 val loss 3.4016, val acc 0.0851064\n",
      "epoch 25, train_loss 2.08, train acc 0.565217 val loss 2.54234, val acc 0.297872\n",
      "epoch 50, train_loss 0.910099, train acc 0.913043 val loss 1.43828, val acc 0.638298\n",
      "epoch 75, train_loss 0.781816, train acc 0.847826 val loss 1.31416, val acc 0.585106\n",
      "epoch 100, train_loss 0.430225, train acc 0.934783 val loss 0.973251, val acc 0.734043\n",
      "epoch 125, train_loss 0.318039, train acc 1 val loss 0.872959, val acc 0.765957\n",
      "epoch 150, train_loss 0.3044, train acc 1 val loss 0.864657, val acc 0.765957\n",
      "epoch 175, train_loss 0.269057, train acc 1 val loss 0.593608, val acc 0.893617\n",
      "epoch 200, train_loss 0.349273, train acc 0.978261 val loss 0.664757, val acc 0.840426\n",
      "*\n",
      "epoch 225, train_loss 0.243643, train acc 1 val loss 0.774618, val acc 0.840426\n",
      "*\n",
      "epoch 250, train_loss 0.25827, train acc 1 val loss 0.962042, val acc 0.755319\n",
      "*\n",
      "epoch 275, train_loss 0.251242, train acc 1 val loss 0.758858, val acc 0.851064\n",
      "*\n",
      "epoch 300, train_loss 0.230274, train acc 1 val loss 0.762991, val acc 0.829787\n",
      "*\n",
      "epoch 325, train_loss 0.231087, train acc 1 val loss 0.7477, val acc 0.829787\n",
      "*\n",
      "early stopping...\n",
      "INFO:tensorflow:Restoring parameters from /m/nbe/scratch/braindata/izbrv/detection_data/tfr/lf-cnn-mne_sample_epochs\n",
      "Trained in 748.6796495914459s\n"
     ]
    }
   ],
   "source": [
    "#train the model\n",
    "from time import time\n",
    "start = time()\n",
    "model.train()\n",
    "stop = time() - start\n",
    "print('Trained in {:.2f}s'.format(stop))"
   ]
  },
  {
   "cell_type": "code",
   "execution_count": 24,
   "metadata": {},
   "outputs": [
    {
     "name": "stdout",
     "output_type": "stream",
     "text": [
      "Trained in 748.68s\n"
     ]
    }
   ],
   "source": [
    "#evaluate performance\n",
    "#TODO: add across-subject example\n",
    "#test_accs = model.evaluate_performance(meta['orig_paths'], batch_size=120)\n",
    "#prt_test_acc, prt_logits = model.evaluate_realtime(meta['orig_paths'], batch_size=120, step_size=params['test_upd_batch'])\n",
    "#results = {'val_acc':model.v_acc[0], 'test_init':np.mean(test_accs), 'test_upd':np.mean(prt_test_acc), 'sid':meta['architecture']} # 'train_time':stop,"
   ]
  },
  {
   "cell_type": "code",
   "execution_count": 28,
   "metadata": {},
   "outputs": [
    {
     "data": {
      "image/png": "[encoded data removed]",
      "text/plain": [
       "<Figure size 432x288 with 16 Axes>"
      ]
     },
     "metadata": {
      "needs_background": "light"
     },
     "output_type": "display_data"
    },
    {
     "name": "stderr",
     "output_type": "stream",
     "text": [
      "/u/62/zubarei1/unix/.conda/envs/py3ml/lib/python3.7/site-packages/matplotlib/figure.py:445: UserWarning: Matplotlib is currently using module://ipykernel.pylab.backend_inline, which is a non-GUI backend, so cannot show the figure.\n",
      "  % get_backend())\n"
     ]
    }
   ],
   "source": [
    "\n",
    "model.compute_patterns(output='patterns')\n",
    "#explore output layer weights\n",
    "#f = model.plot_out_weihts()\n",
    "#explore informative spatial patterns(LF-CNN only)\n",
    "#TODO: Fix visualizations\n",
    "f = model.plot_patterns(sensor_layout='Vectorview-grad', sorting='best', spectra=True, scale=False)"
   ]
  },
  {
   "cell_type": "markdown",
   "metadata": {},
   "source": [
    "# Specify your own neural network"
   ]
  },
  {
   "cell_type": "code",
   "execution_count": 30,
   "metadata": {},
   "outputs": [
    {
     "name": "stdout",
     "output_type": "stream",
     "text": [
      "<DatasetV1Adapter shapes: {X: (204, 142), y: ()}, types: {X: tf.float32, y: tf.int64}>\n",
      "<DatasetV1Adapter shapes: ((204, 142), ()), types: (tf.float32, tf.int64)>\n",
      "Initialization complete!\n",
      "epoch 0, train_loss 2.96028, train acc 0.652174 val loss 2.90475, val acc 0.659574\n",
      "epoch 25, train_loss 1.85661, train acc 1 val loss 2.05819, val acc 0.829787\n",
      "epoch 50, train_loss 1.50525, train acc 1 val loss 1.70533, val acc 0.829787\n",
      "epoch 75, train_loss 1.33028, train acc 1 val loss 1.5272, val acc 0.840426\n",
      "epoch 100, train_loss 1.27517, train acc 1 val loss 1.47034, val acc 0.851064\n",
      "epoch 125, train_loss 1.27475, train acc 1 val loss 1.46769, val acc 0.861702\n",
      "epoch 150, train_loss 1.27474, train acc 1 val loss 1.46592, val acc 0.87234\n",
      "epoch 175, train_loss 1.27473, train acc 1 val loss 1.46452, val acc 0.861702\n",
      "epoch 200, train_loss 1.27472, train acc 1 val loss 1.4634, val acc 0.861702\n",
      "epoch 225, train_loss 1.27472, train acc 1 val loss 1.46252, val acc 0.861702\n",
      "epoch 250, train_loss 1.27472, train acc 1 val loss 1.4618, val acc 0.861702\n",
      "epoch 275, train_loss 1.27472, train acc 1 val loss 1.46123, val acc 0.861702\n",
      "epoch 300, train_loss 1.27472, train acc 1 val loss 1.46076, val acc 0.861702\n",
      "epoch 325, train_loss 1.27472, train acc 1 val loss 1.46038, val acc 0.861702\n",
      "epoch 350, train_loss 1.27472, train acc 1 val loss 1.46007, val acc 0.861702\n",
      "epoch 375, train_loss 1.27472, train acc 1 val loss 1.45981, val acc 0.861702\n",
      "epoch 400, train_loss 1.27472, train acc 1 val loss 1.4596, val acc 0.861702\n",
      "epoch 425, train_loss 1.27472, train acc 1 val loss 1.45942, val acc 0.861702\n",
      "epoch 450, train_loss 1.27472, train acc 1 val loss 1.45927, val acc 0.861702\n",
      "epoch 475, train_loss 1.27472, train acc 1 val loss 1.45915, val acc 0.861702\n",
      "epoch 500, train_loss 1.27472, train acc 1 val loss 1.45905, val acc 0.861702\n",
      "epoch 525, train_loss 1.27472, train acc 1 val loss 1.45896, val acc 0.861702\n",
      "epoch 550, train_loss 1.27472, train acc 1 val loss 1.4589, val acc 0.861702\n",
      "epoch 575, train_loss 1.27472, train acc 1 val loss 1.45884, val acc 0.861702\n",
      "epoch 600, train_loss 1.27472, train acc 1 val loss 1.45879, val acc 0.861702\n",
      "epoch 625, train_loss 1.27472, train acc 1 val loss 1.45875, val acc 0.861702\n",
      "epoch 650, train_loss 1.27472, train acc 1 val loss 1.45871, val acc 0.861702\n",
      "epoch 675, train_loss 1.27472, train acc 1 val loss 1.45868, val acc 0.861702\n",
      "epoch 700, train_loss 1.27472, train acc 1 val loss 1.45865, val acc 0.861702\n",
      "epoch 725, train_loss 1.27473, train acc 1 val loss 1.45863, val acc 0.861702\n",
      "epoch 750, train_loss 1.27473, train acc 1 val loss 1.4586, val acc 0.861702\n",
      "epoch 775, train_loss 1.27472, train acc 1 val loss 1.45858, val acc 0.861702\n",
      "epoch 800, train_loss 1.27473, train acc 1 val loss 1.45855, val acc 0.861702\n",
      "epoch 825, train_loss 1.27473, train acc 1 val loss 1.45853, val acc 0.861702\n",
      "epoch 850, train_loss 1.27473, train acc 1 val loss 1.4585, val acc 0.861702\n",
      "epoch 875, train_loss 1.27473, train acc 1 val loss 1.45847, val acc 0.861702\n",
      "epoch 900, train_loss 1.27473, train acc 1 val loss 1.45844, val acc 0.861702\n",
      "epoch 925, train_loss 1.27473, train acc 1 val loss 1.45841, val acc 0.861702\n",
      "epoch 950, train_loss 1.27472, train acc 1 val loss 1.45837, val acc 0.861702\n",
      "epoch 975, train_loss 1.27473, train acc 1 val loss 1.45834, val acc 0.861702\n"
     ]
    }
   ],
   "source": [
    "params = dict(l1_lambda=3e-4,\n",
    "              learn_rate=3e-4,\n",
    "              dropout = .5,\n",
    "              patience = 5,# patientce for early stopping\n",
    "              min_delta = 5e-6,\n",
    "              test_upd_batch = 20,#pseudo-real time test batch size\n",
    "              n_epochs = 1000, #total training epochs\n",
    "              eval_step = 25, #evaluate validation loss each 10 epochs\n",
    "              n_batch = 200) #training batch size) \n",
    "\n",
    "from tensorflow.keras.layers import Dense, Flatten, Activation\n",
    "from tensorflow.keras.constraints import max_norm\n",
    "\n",
    "class MyNetwork(mneflow.models.Model):\n",
    "    #override the computational graph\n",
    "    def _build_graph(self):\n",
    "        self.h_params['architecture'] = 'my_own'\n",
    "        input_main   = self.X\n",
    "        flatten      = Flatten()(input_main)\n",
    "        dense        = Dense(self.h_params['n_classes'], kernel_constraint = max_norm(0.5))(flatten)\n",
    "        y_pred      = Activation('softmax')(dense)\n",
    "        return y_pred\n",
    "    \n",
    "m2 = MyNetwork(meta,params,model_path)\n",
    "m2.train()\n",
    "\n",
    "# #evaluate performance\n",
    "# test_accs = m2.evaluate_performance(meta['orig_paths'], batch_size=120)"
   ]
  },
  {
   "cell_type": "markdown",
   "metadata": {},
   "source": []
  },
  {
   "cell_type": "markdown",
   "metadata": {},
   "source": [
    "#TODO: across-subject/leave-one-subject-out example"
   ]
  }
 ],
 "metadata": {
  "kernelspec": {
   "display_name": "Python 3",
   "language": "python",
   "name": "python3"
  },
  "language_info": {
   "codemirror_mode": {
    "name": "ipython",
    "version": 3
   },
   "file_extension": ".py",
   "mimetype": "text/x-python",
   "name": "python",
   "nbconvert_exporter": "python",
   "pygments_lexer": "ipython3",
   "version": "3.7.3"
  }
 },
 "nbformat": 4,
 "nbformat_minor": 2
}
